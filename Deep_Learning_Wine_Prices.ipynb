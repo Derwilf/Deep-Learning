{
  "nbformat": 4,
  "nbformat_minor": 0,
  "metadata": {
    "colab": {
      "name": "Deep_Learning_Wine_Prices.ipynb",
      "provenance": [],
      "authorship_tag": "ABX9TyOpmJqZWCvuhn7wVARp/WNO",
      "include_colab_link": true
    },
    "kernelspec": {
      "name": "python3",
      "display_name": "Python 3"
    }
  },
  "cells": [
    {
      "cell_type": "markdown",
      "metadata": {
        "id": "view-in-github",
        "colab_type": "text"
      },
      "source": [
        "<a href=\"https://colab.research.google.com/github/Derwilf/Deep-Learning/blob/master/Deep_Learning_Wine_Prices.ipynb\" target=\"_parent\"><img src=\"https://colab.research.google.com/assets/colab-badge.svg\" alt=\"Open In Colab\"/></a>"
      ]
    },
    {
      "cell_type": "code",
      "metadata": {
        "id": "nBHUlrGuYCrU",
        "colab_type": "code",
        "colab": {}
      },
      "source": [
        "import os\n",
        "import numpy as np\n",
        "import pandas as pd\n",
        "import tensorflow as tf\n",
        "from sklearn.preprocessing import LabelEncoder\n",
        "from tensorflow import keras"
      ],
      "execution_count": 0,
      "outputs": []
    },
    {
      "cell_type": "code",
      "metadata": {
        "id": "3k1iClmvYlWA",
        "colab_type": "code",
        "colab": {}
      },
      "source": [
        "layers = keras.layers"
      ],
      "execution_count": 0,
      "outputs": []
    },
    {
      "cell_type": "code",
      "metadata": {
        "id": "YwcrYRqBZUAE",
        "colab_type": "code",
        "colab": {
          "base_uri": "https://localhost:8080/",
          "height": 130
        },
        "outputId": "d99404fc-0964-494d-9aa1-c8c984f87bd6"
      },
      "source": [
        "#print(\"You have tensorflow version\", tf.__version__)\n",
        "url = 'https://storage.googleapis.com/sara-cloud-ml/wine_data.csv\n",
        "# Get the data\n",
        "path = tf.keras.utils.get_file(url.split('/')[-1], url\n",
        "# Convert the data to a Pandas dataframe\n",
        "data = pd.read_csv(url)"
      ],
      "execution_count": 3,
      "outputs": [
        {
          "output_type": "error",
          "ename": "SyntaxError",
          "evalue": "ignored",
          "traceback": [
            "\u001b[0;36m  File \u001b[0;32m\"<ipython-input-3-e7a960fc592c>\"\u001b[0;36m, line \u001b[0;32m2\u001b[0m\n\u001b[0;31m    url = 'https://storage.googleapis.com/sara-cloud-ml/wine_data.csv\u001b[0m\n\u001b[0m                                                                     ^\u001b[0m\n\u001b[0;31mSyntaxError\u001b[0m\u001b[0;31m:\u001b[0m EOL while scanning string literal\n"
          ]
        }
      ]
    },
    {
      "cell_type": "code",
      "metadata": {
        "id": "SWmdHqoWZjIC",
        "colab_type": "code",
        "colab": {}
      },
      "source": [
        "# Shuffle the data\n",
        "data = data.sample(frac=1\n",
        "# Print the first five rows\n",
        "data.head()"
      ],
      "execution_count": 0,
      "outputs": []
    },
    {
      "cell_type": "code",
      "metadata": {
        "id": "HsFddMNMZpsC",
        "colab_type": "code",
        "colab": {}
      },
      "source": [
        "# Do some preprocessing to limit the number of wine varieties in the dataset\n",
        "data = data[pd.notnull(data['country'])]\n",
        "data = data[pd.notnull(data['price'])]\n",
        "data = data.drop(data.columns[0], axis=1)"
      ],
      "execution_count": 0,
      "outputs": []
    },
    {
      "cell_type": "code",
      "metadata": {
        "id": "jG91uTmvZurD",
        "colab_type": "code",
        "colab": {}
      },
      "source": [
        "vareity_threshold = 600  # Anything less than this will be removed\n",
        "value_counts = data['variety'].value_counts()\n",
        "to_remove = value_counts[value_counts <= vareity_threshold].index\n",
        "data.replace(to_remove, np.nan, inplace=True)\n",
        "data = data[pd.notnull(data['variety'])]"
      ],
      "execution_count": 0,
      "outputs": []
    },
    {
      "cell_type": "code",
      "metadata": {
        "id": "jEQ8F5RnZxMZ",
        "colab_type": "code",
        "colab": {}
      },
      "source": [
        " # Split data into train and test\n",
        "train_size = int(len(data) * .8)\n",
        "print(\"Train size: \", train_size)\n",
        "print(\"Test size: \", len(data) - train_size)"
      ],
      "execution_count": 0,
      "outputs": []
    },
    {
      "cell_type": "code",
      "metadata": {
        "id": "eoTj1_v8Z1CF",
        "colab_type": "code",
        "colab": {}
      },
      "source": [
        "# Train features\n",
        "description_train = data['description'][:train_size]\n",
        "variety_train = data['variety'][:train_size]"
      ],
      "execution_count": 0,
      "outputs": []
    },
    {
      "cell_type": "code",
      "metadata": {
        "id": "8YQsmpPyZ3Pr",
        "colab_type": "code",
        "colab": {}
      },
      "source": [
        " # Train labels\n",
        "labels_train = data['price'][:train_size]"
      ],
      "execution_count": 0,
      "outputs": []
    },
    {
      "cell_type": "code",
      "metadata": {
        "id": "ymc38MzeZ6Aw",
        "colab_type": "code",
        "colab": {}
      },
      "source": [
        "# Test features\n",
        "description_test = data['description'][train_size:]\n",
        "variety_test = data['variety'][train_size:]"
      ],
      "execution_count": 0,
      "outputs": []
    },
    {
      "cell_type": "code",
      "metadata": {
        "id": "B7yrFMnSZ7_I",
        "colab_type": "code",
        "colab": {}
      },
      "source": [
        "# Test labels\n",
        "labels_test = data['price'][train_size:]"
      ],
      "execution_count": 0,
      "outputs": []
    },
    {
      "cell_type": "code",
      "metadata": {
        "id": "4XXCLP4baBGv",
        "colab_type": "code",
        "colab": {}
      },
      "source": [
        "# Create a tokenizer to preprocess our text description\n",
        "# This is a hyperparameter, experiment with different values for your dataset\n",
        "vocab_size = 12000\n",
        "tokenize = keras.preprocessing.text.Tokenizer(\n",
        "    num_words=vocab_size, char_level=False)\n",
        "tokenize.fit_on_texts(description_train)"
      ],
      "execution_count": 0,
      "outputs": []
    },
    {
      "cell_type": "code",
      "metadata": {
        "id": "YUNH3kBmaC5W",
        "colab_type": "code",
        "colab": {}
      },
      "source": [
        "# Wide feature 1: sparce bag of words (bow) vocab_size vector\n",
        "description_bow_train = tokenize.texts_to_matrix(description_train)\n",
        "description_bow_test = tokenize.texts_to_matrix(description_test)"
      ],
      "execution_count": 0,
      "outputs": []
    },
    {
      "cell_type": "code",
      "metadata": {
        "id": "dr95-9QwaFw0",
        "colab_type": "code",
        "colab": {}
      },
      "source": [
        "# Wide feature 2: one-hot vector of the variety categories\n",
        "\n",
        "# Use sklearn utility to convert labelstrings into numbered index\n",
        "encoder = LabelEncoder()\n",
        "encoder.fit(variety_train)\n",
        "variety_train = encoder.transform(variety_train)\n",
        "variety_test = encoder.transform(variety_test)\n",
        "num_classes = np.max(variety_train) + 1"
      ],
      "execution_count": 0,
      "outputs": []
    },
    {
      "cell_type": "code",
      "metadata": {
        "id": "vJ0xfjKTaM2e",
        "colab_type": "code",
        "colab": {}
      },
      "source": [
        "# Convert labels to one hot\n",
        "variety_train = keras.utils.to_categorical(variety_train, num_classes)\n",
        "variety_test = keras.utils.to_categorical(variety_test, num_classes)"
      ],
      "execution_count": 0,
      "outputs": []
    },
    {
      "cell_type": "code",
      "metadata": {
        "id": "1lJO5ZZDaQYt",
        "colab_type": "code",
        "colab": {}
      },
      "source": [
        " # Define our wide model with he functional API\n",
        "bow_inputs = layers.Input(shape=(vocab_size,))\n",
        "variety_inputs = layers.Input(shape=(num_classes,))\n",
        "merged_layer = layers.concatenate([bow_inputs, variety_inputs])\n",
        "merged_layer = layers.Dense(256, activation='relu')(merged_layer)\n",
        "predictions = layers.Dense(1)(merged_layer)\n",
        "wide_model = keras.Model(\n",
        "    inputs=[bow_inputs, variety_inputs], outputs=predictions)\n"
      ],
      "execution_count": 0,
      "outputs": []
    },
    {
      "cell_type": "code",
      "metadata": {
        "id": "23x2oUO_aS0w",
        "colab_type": "code",
        "colab": {}
      },
      "source": [
        "wide_model.compile(loss='mse', optimizer='adam', metrics=['accuracy'])\n",
        "print(wide_model.summary())\n"
      ],
      "execution_count": 0,
      "outputs": []
    },
    {
      "cell_type": "code",
      "metadata": {
        "id": "6-QMoSKtaVMr",
        "colab_type": "code",
        "colab": {}
      },
      "source": [
        "# Deep model feature: word embeddings of wine description\n",
        "train_embed = tokenize.texts_to_sequences(description_train)\n",
        "test_embed = tokenize.texts_to_sequences(description_test)"
      ],
      "execution_count": 0,
      "outputs": []
    },
    {
      "cell_type": "code",
      "metadata": {
        "id": "bSpaVmnQaYNx",
        "colab_type": "code",
        "colab": {}
      },
      "source": [
        "max_seq_length = 170\n",
        "train_embed = keras.preprocessing.sequence.pad_sequences(\n",
        "    train_embed, maxlen=max_seq_length, padding=\"post\")\n",
        "test_embed = keras.preprocessing.sequence.pad_sequences(\n",
        "    test_embed, maxlen=max_seq_length, padding=\"post\")"
      ],
      "execution_count": 0,
      "outputs": []
    },
    {
      "cell_type": "code",
      "metadata": {
        "id": "nj_zqZdpabIW",
        "colab_type": "code",
        "colab": {}
      },
      "source": [
        "# Define our deep model with the Functional API\n",
        "deep_inputs = layers.Input(shape=(max_seq_length,))\n",
        "embedding = layers.Embedding(\n",
        "    vocab_size, 8, input_length=max_seq_length)(deep_inputs)\n",
        "embedding = layers.Flatten()(embedding)\n",
        "embed_out = layers.Dense(1)(embedding)\n",
        "deep_model = keras.Model(inputs=deep_inputs, outputs=embed_out)\n",
        "print(deep_model.summary())"
      ],
      "execution_count": 0,
      "outputs": []
    },
    {
      "cell_type": "code",
      "metadata": {
        "id": "IW2SFod4afTY",
        "colab_type": "code",
        "colab": {}
      },
      "source": [
        "deep_model.compile(loss='mse', optimizer='adam', metrics=['accuracy'])"
      ],
      "execution_count": 0,
      "outputs": []
    },
    {
      "cell_type": "code",
      "metadata": {
        "id": "WYFyMe7XagDx",
        "colab_type": "code",
        "colab": {}
      },
      "source": [
        " # Combine wide and deep into one model\n",
        "merged_out = layers.concatenate([wide_model.output, deep_model.output])\n",
        "merged_out = layers.Dense(1)(merged_out)\n",
        "combined_model = keras.Model(\n",
        "    wide_model.input + [deep_model.input], merged_out)\n",
        "print(combined_model.summary())"
      ],
      "execution_count": 0,
      "outputs": []
    },
    {
      "cell_type": "code",
      "metadata": {
        "id": "Uq_1UzmGajE0",
        "colab_type": "code",
        "colab": {}
      },
      "source": [
        "combined_model.compile(loss='mse', optimizer='adam', metrics=['accuracy'])"
      ],
      "execution_count": 0,
      "outputs": []
    },
    {
      "cell_type": "code",
      "metadata": {
        "id": "ieNLCayyalLY",
        "colab_type": "code",
        "colab": {}
      },
      "source": [
        " # Run Training\n",
        "combined_model.fit([description_bow_train, variety_train] + [train_embed],\n",
        "                   labels_train, epochs=10, batch_size=128)"
      ],
      "execution_count": 0,
      "outputs": []
    },
    {
      "cell_type": "code",
      "metadata": {
        "id": "3Ci64eknanmP",
        "colab_type": "code",
        "colab": {}
      },
      "source": [
        "# Generate predictions\n",
        "predictions = combined_model.predict(\n",
        "        [description_bow_test, variety_test] + [test_embed])"
      ],
      "execution_count": 0,
      "outputs": []
    },
    {
      "cell_type": "code",
      "metadata": {
        "id": "JnS4OYM_aqQE",
        "colab_type": "code",
        "colab": {}
      },
      "source": [
        "# Compare predictions with actual values of the first few items in our test dataset\n",
        "num_predictions = 40\n",
        "diff = \n",
        "for i in range(num_predictions):\n",
        "    val = predictions[i]\n",
        "    print(description_test.iloc[i])\n",
        "    print('Predicted: ', val[0], 'Actual: ', labels_test.iloc[i], '\\n')\n",
        "    diff += abs(val[0] - labels_test.iloc[i])"
      ],
      "execution_count": 0,
      "outputs": []
    },
    {
      "cell_type": "code",
      "metadata": {
        "id": "1LLK1ogCasy7",
        "colab_type": "code",
        "colab": {}
      },
      "source": [
        "# Compare the verage difference between actual price and model's predicted price\n",
        "print(\"Average prediction difference: \", diff/num_predictions)"
      ],
      "execution_count": 0,
      "outputs": []
    }
  ]
}